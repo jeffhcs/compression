{
 "cells": [
  {
   "cell_type": "code",
   "execution_count": 24,
   "metadata": {},
   "outputs": [],
   "source": [
    "import torch\n",
    "import torchvision\n",
    "from torchvision import transforms\n",
    "from torch.utils.data import DataLoader, Subset\n",
    "from model import TwoResAutoEncoder\n",
    "from data import FaceDataset\n",
    "from train import create_fg_masks\n",
    "import matplotlib.pyplot as plt\n",
    "from feather import stitch\n",
    "import os"
   ]
  },
  {
   "cell_type": "code",
   "execution_count": 25,
   "metadata": {},
   "outputs": [
    {
     "data": {
      "text/plain": [
       "TwoResAutoEncoder(\n",
       "  (fg_ae): FGAutoencoder(\n",
       "    (encoder): Sequential(\n",
       "      (0): Conv2d(3, 16, kernel_size=(3, 3), stride=(1, 1), padding=(1, 1))\n",
       "      (1): ReLU()\n",
       "      (2): MaxPool2d(kernel_size=2, stride=2, padding=0, dilation=1, ceil_mode=False)\n",
       "      (3): Conv2d(16, 32, kernel_size=(3, 3), stride=(1, 1), padding=(1, 1))\n",
       "      (4): ReLU()\n",
       "      (5): MaxPool2d(kernel_size=2, stride=2, padding=0, dilation=1, ceil_mode=False)\n",
       "      (6): Conv2d(32, 64, kernel_size=(3, 3), stride=(1, 1), padding=(1, 1))\n",
       "      (7): ReLU()\n",
       "      (8): MaxPool2d(kernel_size=2, stride=2, padding=0, dilation=1, ceil_mode=False)\n",
       "      (9): Flatten(start_dim=1, end_dim=-1)\n",
       "      (10): Linear(in_features=7040, out_features=250, bias=True)\n",
       "      (11): ReLU()\n",
       "    )\n",
       "    (decoder): Sequential(\n",
       "      (0): Linear(in_features=250, out_features=7040, bias=True)\n",
       "      (1): ReLU()\n",
       "      (2): Unflatten(dim=1, unflattened_size=(64, 11, 10))\n",
       "      (3): ConvTranspose2d(64, 32, kernel_size=(3, 3), stride=(2, 2), padding=(1, 1), output_padding=(1, 1))\n",
       "      (4): ReLU()\n",
       "      (5): ConvTranspose2d(32, 16, kernel_size=(3, 3), stride=(2, 2), output_padding=(1, 1))\n",
       "      (6): ReLU()\n",
       "      (7): ConvTranspose2d(16, 3, kernel_size=(3, 3), stride=(2, 2), padding=(1, 1), output_padding=(1, 1))\n",
       "      (8): Sigmoid()\n",
       "    )\n",
       "  )\n",
       "  (bg_ae): BGAutoencoder(\n",
       "    (encoder): Sequential(\n",
       "      (0): Conv2d(3, 16, kernel_size=(3, 3), stride=(1, 1), padding=(1, 1))\n",
       "      (1): ReLU()\n",
       "      (2): MaxPool2d(kernel_size=2, stride=2, padding=0, dilation=1, ceil_mode=False)\n",
       "      (3): Conv2d(16, 32, kernel_size=(3, 3), stride=(1, 1), padding=(1, 1))\n",
       "      (4): ReLU()\n",
       "      (5): MaxPool2d(kernel_size=2, stride=2, padding=0, dilation=1, ceil_mode=False)\n",
       "      (6): Conv2d(32, 64, kernel_size=(3, 3), stride=(1, 1), padding=(1, 1))\n",
       "      (7): ReLU()\n",
       "      (8): MaxPool2d(kernel_size=2, stride=2, padding=0, dilation=1, ceil_mode=False)\n",
       "      (9): Flatten(start_dim=1, end_dim=-1)\n",
       "      (10): Linear(in_features=38016, out_features=750, bias=True)\n",
       "      (11): ReLU()\n",
       "    )\n",
       "    (decoder): Sequential(\n",
       "      (0): Linear(in_features=750, out_features=38016, bias=True)\n",
       "      (1): ReLU()\n",
       "      (2): Unflatten(dim=1, unflattened_size=(64, 27, 22))\n",
       "      (3): ConvTranspose2d(64, 32, kernel_size=(3, 3), stride=(2, 2), padding=(1, 1), output_padding=(1, 1))\n",
       "      (4): ReLU()\n",
       "      (5): ConvTranspose2d(32, 16, kernel_size=(3, 3), stride=(2, 2), padding=(1, 1), output_padding=(1, 1))\n",
       "      (6): ReLU()\n",
       "      (7): ConvTranspose2d(16, 3, kernel_size=(4, 4), stride=(2, 2))\n",
       "      (8): Sigmoid()\n",
       "    )\n",
       "  )\n",
       ")"
      ]
     },
     "execution_count": 25,
     "metadata": {},
     "output_type": "execute_result"
    }
   ],
   "source": [
    "device = \"cuda\" if torch.cuda.is_available() else \"cpu\"\n",
    "\n",
    "model = torch.load('./boiNet250,750.pt')\n",
    "model.to(device)"
   ]
  },
  {
   "cell_type": "code",
   "execution_count": 26,
   "metadata": {},
   "outputs": [],
   "source": [
    "dataset = FaceDataset('test_set_bb.csv', '../celeba/img_align_celeba', return_im_num=True)\n",
    "# dataset = Subset(dataset, range(2200, 2400))\n",
    "\n",
    "output_folder = 'compressed-250,750'\n",
    "os.makedirs(output_folder, exist_ok=True)"
   ]
  },
  {
   "cell_type": "code",
   "execution_count": 27,
   "metadata": {},
   "outputs": [],
   "source": [
    "loader = DataLoader(dataset, batch_size=32)\n",
    "\n",
    "for img_num, images, faces, bboxs in loader:\n",
    "    images, faces = images.to(device), faces.to(device)\n",
    "    filenames = []\n",
    "    \n",
    "    fg_masks = create_fg_masks(bboxs).to(device)\n",
    "    fg_output, bg_output = model(images * (~fg_masks), faces)\n",
    "    \n",
    "    rec = stitch(fg_output, bg_output, bboxs.to(device), feather_size=20, device=device)\n",
    "    \n",
    "    # Save images\n",
    "    for i in range(img_num.shape[0]):\n",
    "        torchvision.utils.save_image(rec[i], os.path.join(output_folder, f'{img_num[i]}.png'))"
   ]
  }
 ],
 "metadata": {
  "kernelspec": {
   "display_name": "csc413",
   "language": "python",
   "name": "python3"
  },
  "language_info": {
   "codemirror_mode": {
    "name": "ipython",
    "version": 3
   },
   "file_extension": ".py",
   "mimetype": "text/x-python",
   "name": "python",
   "nbconvert_exporter": "python",
   "pygments_lexer": "ipython3",
   "version": "3.10.13"
  }
 },
 "nbformat": 4,
 "nbformat_minor": 2
}
