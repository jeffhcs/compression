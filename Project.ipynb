{
  "nbformat": 4,
  "nbformat_minor": 0,
  "metadata": {
    "colab": {
      "provenance": []
    },
    "kernelspec": {
      "name": "python3",
      "display_name": "Python 3"
    },
    "language_info": {
      "name": "python"
    }
  },
  "cells": [
    {
      "cell_type": "code",
      "source": [
        "!pip install --upgrade --no-cache-dir gdown\n",
        "from torchvision.datasets import CelebA\n",
        "from torchvision import transforms, datasets\n",
        "import torch\n",
        "\n",
        "path = '/content'\n",
        "download = True\n",
        "device = torch.device('cuda:0' if torch.cuda.is_available() else 'cpu')\n",
        "\n",
        "preprocessing = transforms.Compose([transforms.ToTensor(),\n",
        "                                    transforms.Normalize(mean=[0.5, 0.5, 0.5],\n",
        "                                                         std=[0.5, 0.5, 0.5])])\n",
        "\n",
        "training_set = CelebA(path + \"/training/\", download=download, split='train', target_type='attr', transform=preprocessing)\n",
        "validation_set = CelebA(path + \"/validation/\", download=download, split='valid', target_type='attr', transform=preprocessing)\n",
        "testing_set = CelebA(path + \"/testing/\", download=download, split='test', target_type='attr', transform=preprocessing)"
      ],
      "metadata": {
        "colab": {
          "base_uri": "https://localhost:8080/"
        },
        "id": "PoNtQCSp61Jz",
        "outputId": "a6888e26-4d5f-45c6-9fc2-eaf362824d43"
      },
      "execution_count": 1,
      "outputs": [
        {
          "output_type": "stream",
          "name": "stderr",
          "text": [
            "Downloading...\n",
            "From: https://drive.google.com/uc?id=0B7EVK8r0v71pblRyaVFSWGxPY0U\n",
            "To: /content/testing/celeba/list_attr_celeba.txt\n",
            "100%|██████████| 26.7M/26.7M [00:00<00:00, 103MB/s] \n",
            "Downloading...\n",
            "From: https://drive.google.com/uc?id=1_ee_0u7vcNLOfNLegJRHmolfH5ICW-XS\n",
            "To: /content/testing/celeba/identity_CelebA.txt\n",
            "100%|██████████| 3.42M/3.42M [00:00<00:00, 26.9MB/s]\n",
            "Downloading...\n",
            "From: https://drive.google.com/uc?id=0B7EVK8r0v71pbThiMVRxWXZ4dU0\n",
            "To: /content/testing/celeba/list_bbox_celeba.txt\n",
            "100%|██████████| 6.08M/6.08M [00:00<00:00, 42.1MB/s]\n",
            "Downloading...\n",
            "From: https://drive.google.com/uc?id=0B7EVK8r0v71pd0FJY3Blby1HUTQ\n",
            "To: /content/testing/celeba/list_landmarks_align_celeba.txt\n",
            "100%|██████████| 12.2M/12.2M [00:00<00:00, 68.5MB/s]\n",
            "Downloading...\n",
            "From: https://drive.google.com/uc?id=0B7EVK8r0v71pY0NSMzRuSXJEVkk\n",
            "To: /content/testing/celeba/list_eval_partition.txt\n",
            "100%|██████████| 2.84M/2.84M [00:00<00:00, 23.8MB/s]\n"
          ]
        }
      ]
    },
    {
      "cell_type": "code",
      "source": [
        "training_set[0][0].shape"
      ],
      "metadata": {
        "colab": {
          "base_uri": "https://localhost:8080/"
        },
        "id": "nS2FjMYs_OG6",
        "outputId": "d43b7326-3838-45bb-c42b-3a4688359d2b"
      },
      "execution_count": 4,
      "outputs": [
        {
          "output_type": "execute_result",
          "data": {
            "text/plain": [
              "torch.Size([3, 218, 178])"
            ]
          },
          "metadata": {},
          "execution_count": 4
        }
      ]
    },
    {
      "cell_type": "code",
      "source": [
        "training_set[0][1].shape"
      ],
      "metadata": {
        "colab": {
          "base_uri": "https://localhost:8080/"
        },
        "id": "Cx8WpY1_BR9f",
        "outputId": "c79fd2f2-685c-4375-f413-7cb47cd491ff"
      },
      "execution_count": 6,
      "outputs": [
        {
          "output_type": "execute_result",
          "data": {
            "text/plain": [
              "torch.Size([40])"
            ]
          },
          "metadata": {},
          "execution_count": 6
        }
      ]
    }
  ]
}